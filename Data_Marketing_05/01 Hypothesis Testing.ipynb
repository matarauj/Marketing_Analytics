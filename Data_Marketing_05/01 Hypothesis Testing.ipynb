{
 "cells": [
  {
   "cell_type": "code",
   "execution_count": 32,
   "id": "bcb9722c-03a9-4b61-931b-c1268ce78867",
   "metadata": {},
   "outputs": [],
   "source": [
    "import os\n",
    "import numpy as np\n",
    "import pandas as pd\n",
    "\n",
    "from scipy import stats\n",
    "from scipy.stats import ttest_1samp\n",
    "from scipy.stats import ttest_ind\n",
    "from scipy.stats import ttest_rel\n",
    "from statsmodels.stats.anova import anova_lm\n",
    "from statsmodels.formula.api import ols\n",
    "from scipy.stats import f\n",
    "import statsmodels.api as sm\n",
    "from scipy.stats import shapiro\n",
    "from scipy.stats import levene\n",
    "from scipy.stats import binomtest\n",
    "from scipy.stats import wilcoxon\n",
    "from scipy.stats import mannwhitneyu\n",
    "from scipy.stats import kruskal\n",
    "from scipy.stats import chi2_contingency\n",
    "from statsmodels.stats.proportion import proportions_ztest\n",
    "\n",
    "import matplotlib.pyplot as plt\n",
    "import seaborn as sns\n",
    "\n",
    "proj_dir = os.getcwd()"
   ]
  },
  {
   "cell_type": "markdown",
   "id": "08c9f471-9fd5-4109-8c22-2f1ba03a0a9b",
   "metadata": {},
   "source": [
    "# One sample z test"
   ]
  },
  {
   "cell_type": "markdown",
   "id": "51bcc593-916d-4248-a69c-6da2ad6365a3",
   "metadata": {},
   "source": [
    "## Problem 1"
   ]
  },
  {
   "cell_type": "code",
   "execution_count": 14,
   "id": "5dd930ed-f8d6-49c2-9af5-7e318d56dfab",
   "metadata": {},
   "outputs": [
    {
     "data": {
      "text/plain": [
       "2.1908902300206643"
      ]
     },
     "execution_count": 14,
     "metadata": {},
     "output_type": "execute_result"
    }
   ],
   "source": [
    "# Critical value method\n",
    "z = (150-140) / (25 / (30**(0.5)))\n",
    "z"
   ]
  },
  {
   "cell_type": "code",
   "execution_count": 16,
   "id": "8300360e-deee-4ade-ab66-4b5c5478cf8d",
   "metadata": {},
   "outputs": [
    {
     "data": {
      "text/plain": [
       "0.014229868458155326"
      ]
     },
     "execution_count": 16,
     "metadata": {},
     "output_type": "execute_result"
    }
   ],
   "source": [
    "# p-value method\n",
    "z_prob = 1-stats.norm.cdf(z, loc=0, scale=1)\n",
    "z_prob"
   ]
  },
  {
   "cell_type": "markdown",
   "id": "b677c136-6e1b-4418-87c7-49cb164471d2",
   "metadata": {},
   "source": [
    "## Problem 2"
   ]
  },
  {
   "cell_type": "code",
   "execution_count": 21,
   "id": "6e9c2c75-5361-4ed0-ac39-0228743cd287",
   "metadata": {},
   "outputs": [
    {
     "data": {
      "text/plain": [
       "-1.1785113019775793"
      ]
     },
     "execution_count": 21,
     "metadata": {},
     "output_type": "execute_result"
    }
   ],
   "source": [
    "# Critical value method\n",
    "z = (180-200) / (120 / (50**(0.5)))\n",
    "z"
   ]
  },
  {
   "cell_type": "code",
   "execution_count": 25,
   "id": "ef11259d-bf72-4a1b-948d-025a06550c39",
   "metadata": {},
   "outputs": [
    {
     "data": {
      "text/plain": [
       "0.11929641465821778"
      ]
     },
     "execution_count": 25,
     "metadata": {},
     "output_type": "execute_result"
    }
   ],
   "source": [
    "# p-value method\n",
    "z_prob = stats.norm.cdf(z, loc=0, scale=1)\n",
    "z_prob"
   ]
  },
  {
   "cell_type": "markdown",
   "id": "710ce528-5513-4d5b-9c63-224d4e448168",
   "metadata": {},
   "source": [
    "## Problem 3"
   ]
  },
  {
   "cell_type": "code",
   "execution_count": 28,
   "id": "f200145b-9bfa-48f8-ab9f-609ecc0897e0",
   "metadata": {},
   "outputs": [
    {
     "data": {
      "text/plain": [
       "1.5"
      ]
     },
     "execution_count": 28,
     "metadata": {},
     "output_type": "execute_result"
    }
   ],
   "source": [
    "# Critical value method\n",
    "z = (105-100) / (20 / (36**(0.5)))\n",
    "z"
   ]
  },
  {
   "cell_type": "code",
   "execution_count": 32,
   "id": "ba6dab82-7e4d-4196-b955-a7a854deca7d",
   "metadata": {},
   "outputs": [
    {
     "data": {
      "text/plain": [
       "0.06680720126885809"
      ]
     },
     "execution_count": 32,
     "metadata": {},
     "output_type": "execute_result"
    }
   ],
   "source": [
    "# p-value method\n",
    "z_prob = 1-stats.norm.cdf(z, loc=0, scale=1)\n",
    "z_prob"
   ]
  },
  {
   "cell_type": "markdown",
   "id": "6e9417ac-8d86-4aa8-b545-cbd83ac323e3",
   "metadata": {},
   "source": [
    "# One sample t-test"
   ]
  },
  {
   "cell_type": "code",
   "execution_count": 44,
   "id": "1cb818c9-bb80-420d-b4a2-5490b0326fca",
   "metadata": {},
   "outputs": [],
   "source": [
    "df = pd.read_csv(proj_dir+'\\\\dlvry_times.csv')"
   ]
  },
  {
   "cell_type": "code",
   "execution_count": 46,
   "id": "483d593a-3235-4821-a6fe-a559f46c18c7",
   "metadata": {},
   "outputs": [
    {
     "data": {
      "text/html": [
       "<div>\n",
       "<style scoped>\n",
       "    .dataframe tbody tr th:only-of-type {\n",
       "        vertical-align: middle;\n",
       "    }\n",
       "\n",
       "    .dataframe tbody tr th {\n",
       "        vertical-align: top;\n",
       "    }\n",
       "\n",
       "    .dataframe thead th {\n",
       "        text-align: right;\n",
       "    }\n",
       "</style>\n",
       "<table border=\"1\" class=\"dataframe\">\n",
       "  <thead>\n",
       "    <tr style=\"text-align: right;\">\n",
       "      <th></th>\n",
       "      <th>sr#</th>\n",
       "      <th>sample</th>\n",
       "    </tr>\n",
       "  </thead>\n",
       "  <tbody>\n",
       "    <tr>\n",
       "      <th>0</th>\n",
       "      <td>1</td>\n",
       "      <td>43</td>\n",
       "    </tr>\n",
       "    <tr>\n",
       "      <th>1</th>\n",
       "      <td>2</td>\n",
       "      <td>39</td>\n",
       "    </tr>\n",
       "    <tr>\n",
       "      <th>2</th>\n",
       "      <td>3</td>\n",
       "      <td>44</td>\n",
       "    </tr>\n",
       "    <tr>\n",
       "      <th>3</th>\n",
       "      <td>4</td>\n",
       "      <td>35</td>\n",
       "    </tr>\n",
       "    <tr>\n",
       "      <th>4</th>\n",
       "      <td>5</td>\n",
       "      <td>75</td>\n",
       "    </tr>\n",
       "  </tbody>\n",
       "</table>\n",
       "</div>"
      ],
      "text/plain": [
       "   sr#  sample\n",
       "0    1      43\n",
       "1    2      39\n",
       "2    3      44\n",
       "3    4      35\n",
       "4    5      75"
      ]
     },
     "execution_count": 46,
     "metadata": {},
     "output_type": "execute_result"
    }
   ],
   "source": [
    "df.head()"
   ]
  },
  {
   "cell_type": "code",
   "execution_count": 48,
   "id": "a19f68fc-55cb-487e-89cb-b122ffa130ab",
   "metadata": {},
   "outputs": [
    {
     "data": {
      "text/plain": [
       "TtestResult(statistic=2.576635328973826, pvalue=0.008277325170474666, df=24)"
      ]
     },
     "execution_count": 48,
     "metadata": {},
     "output_type": "execute_result"
    }
   ],
   "source": [
    "ttest_1samp(df['sample'], 45, alternative='greater')"
   ]
  },
  {
   "cell_type": "markdown",
   "id": "31ab17de-a49d-40b0-ae97-ecccda953d06",
   "metadata": {},
   "source": [
    "# Two sample t-test | Independent samples | Welch’s test"
   ]
  },
  {
   "cell_type": "code",
   "execution_count": 61,
   "id": "b7dcf7cf-f71c-4466-8bad-a6de7abd3da9",
   "metadata": {},
   "outputs": [],
   "source": [
    "df = pd.read_excel(proj_dir+'\\\\internet_speed.xlsx')"
   ]
  },
  {
   "cell_type": "code",
   "execution_count": 63,
   "id": "8bd36acd-1ec5-4694-a59d-2e7fa692914d",
   "metadata": {},
   "outputs": [
    {
     "data": {
      "text/html": [
       "<div>\n",
       "<style scoped>\n",
       "    .dataframe tbody tr th:only-of-type {\n",
       "        vertical-align: middle;\n",
       "    }\n",
       "\n",
       "    .dataframe tbody tr th {\n",
       "        vertical-align: top;\n",
       "    }\n",
       "\n",
       "    .dataframe thead th {\n",
       "        text-align: right;\n",
       "    }\n",
       "</style>\n",
       "<table border=\"1\" class=\"dataframe\">\n",
       "  <thead>\n",
       "    <tr style=\"text-align: right;\">\n",
       "      <th></th>\n",
       "      <th>sr#</th>\n",
       "      <th>Sample_1</th>\n",
       "      <th>Sample_2</th>\n",
       "    </tr>\n",
       "  </thead>\n",
       "  <tbody>\n",
       "    <tr>\n",
       "      <th>0</th>\n",
       "      <td>1</td>\n",
       "      <td>20.272</td>\n",
       "      <td>25.726</td>\n",
       "    </tr>\n",
       "    <tr>\n",
       "      <th>1</th>\n",
       "      <td>2</td>\n",
       "      <td>21.238</td>\n",
       "      <td>26.861</td>\n",
       "    </tr>\n",
       "    <tr>\n",
       "      <th>2</th>\n",
       "      <td>3</td>\n",
       "      <td>20.228</td>\n",
       "      <td>27.289</td>\n",
       "    </tr>\n",
       "    <tr>\n",
       "      <th>3</th>\n",
       "      <td>4</td>\n",
       "      <td>22.636</td>\n",
       "      <td>27.543</td>\n",
       "    </tr>\n",
       "    <tr>\n",
       "      <th>4</th>\n",
       "      <td>5</td>\n",
       "      <td>24.475</td>\n",
       "      <td>23.979</td>\n",
       "    </tr>\n",
       "  </tbody>\n",
       "</table>\n",
       "</div>"
      ],
      "text/plain": [
       "   sr#  Sample_1  Sample_2\n",
       "0    1    20.272    25.726\n",
       "1    2    21.238    26.861\n",
       "2    3    20.228    27.289\n",
       "3    4    22.636    27.543\n",
       "4    5    24.475    23.979"
      ]
     },
     "execution_count": 63,
     "metadata": {},
     "output_type": "execute_result"
    }
   ],
   "source": [
    "df.head()"
   ]
  },
  {
   "cell_type": "code",
   "execution_count": 65,
   "id": "f2031289-554b-4a5a-9596-a1804da199be",
   "metadata": {},
   "outputs": [
    {
     "data": {
      "text/html": [
       "<div>\n",
       "<style scoped>\n",
       "    .dataframe tbody tr th:only-of-type {\n",
       "        vertical-align: middle;\n",
       "    }\n",
       "\n",
       "    .dataframe tbody tr th {\n",
       "        vertical-align: top;\n",
       "    }\n",
       "\n",
       "    .dataframe thead th {\n",
       "        text-align: right;\n",
       "    }\n",
       "</style>\n",
       "<table border=\"1\" class=\"dataframe\">\n",
       "  <thead>\n",
       "    <tr style=\"text-align: right;\">\n",
       "      <th></th>\n",
       "      <th>sr#</th>\n",
       "      <th>Sample_1</th>\n",
       "      <th>Sample_2</th>\n",
       "    </tr>\n",
       "  </thead>\n",
       "  <tbody>\n",
       "    <tr>\n",
       "      <th>count</th>\n",
       "      <td>20.00000</td>\n",
       "      <td>15.000000</td>\n",
       "      <td>20.000000</td>\n",
       "    </tr>\n",
       "    <tr>\n",
       "      <th>mean</th>\n",
       "      <td>10.50000</td>\n",
       "      <td>22.059267</td>\n",
       "      <td>25.768700</td>\n",
       "    </tr>\n",
       "    <tr>\n",
       "      <th>std</th>\n",
       "      <td>5.91608</td>\n",
       "      <td>1.678223</td>\n",
       "      <td>1.503923</td>\n",
       "    </tr>\n",
       "    <tr>\n",
       "      <th>min</th>\n",
       "      <td>1.00000</td>\n",
       "      <td>19.098000</td>\n",
       "      <td>23.067000</td>\n",
       "    </tr>\n",
       "    <tr>\n",
       "      <th>25%</th>\n",
       "      <td>5.75000</td>\n",
       "      <td>21.081500</td>\n",
       "      <td>24.552000</td>\n",
       "    </tr>\n",
       "    <tr>\n",
       "      <th>50%</th>\n",
       "      <td>10.50000</td>\n",
       "      <td>21.685000</td>\n",
       "      <td>25.879500</td>\n",
       "    </tr>\n",
       "    <tr>\n",
       "      <th>75%</th>\n",
       "      <td>15.25000</td>\n",
       "      <td>23.209000</td>\n",
       "      <td>26.959000</td>\n",
       "    </tr>\n",
       "    <tr>\n",
       "      <th>max</th>\n",
       "      <td>20.00000</td>\n",
       "      <td>25.304000</td>\n",
       "      <td>27.693000</td>\n",
       "    </tr>\n",
       "  </tbody>\n",
       "</table>\n",
       "</div>"
      ],
      "text/plain": [
       "            sr#   Sample_1   Sample_2\n",
       "count  20.00000  15.000000  20.000000\n",
       "mean   10.50000  22.059267  25.768700\n",
       "std     5.91608   1.678223   1.503923\n",
       "min     1.00000  19.098000  23.067000\n",
       "25%     5.75000  21.081500  24.552000\n",
       "50%    10.50000  21.685000  25.879500\n",
       "75%    15.25000  23.209000  26.959000\n",
       "max    20.00000  25.304000  27.693000"
      ]
     },
     "execution_count": 65,
     "metadata": {},
     "output_type": "execute_result"
    }
   ],
   "source": [
    "df.describe()"
   ]
  },
  {
   "cell_type": "code",
   "execution_count": 67,
   "id": "d0051a47-4b0d-4df7-9363-339a23199a98",
   "metadata": {},
   "outputs": [
    {
     "data": {
      "text/plain": [
       "TtestResult(statistic=-6.872538312558946, pvalue=7.584320583679845e-08, df=33.0)"
      ]
     },
     "execution_count": 67,
     "metadata": {},
     "output_type": "execute_result"
    }
   ],
   "source": [
    "ttest_ind(df['Sample_1'], df['Sample_2'], alternative='two-sided', nan_policy='omit')"
   ]
  },
  {
   "cell_type": "markdown",
   "id": "3aed6f8e-61f0-4e51-ac15-92b46912be98",
   "metadata": {},
   "source": [
    "# Paired t-test | Dependent samples t-test"
   ]
  },
  {
   "cell_type": "code",
   "execution_count": 72,
   "id": "65a34ba0-d2f3-41ec-8348-735539c94d3f",
   "metadata": {},
   "outputs": [],
   "source": [
    "df = pd.read_excel(proj_dir+'\\\\app_usage.xlsx')"
   ]
  },
  {
   "cell_type": "code",
   "execution_count": 74,
   "id": "fc57d3c3-95ce-47b2-b0e1-36bdfb7f1c47",
   "metadata": {},
   "outputs": [
    {
     "data": {
      "text/html": [
       "<div>\n",
       "<style scoped>\n",
       "    .dataframe tbody tr th:only-of-type {\n",
       "        vertical-align: middle;\n",
       "    }\n",
       "\n",
       "    .dataframe tbody tr th {\n",
       "        vertical-align: top;\n",
       "    }\n",
       "\n",
       "    .dataframe thead th {\n",
       "        text-align: right;\n",
       "    }\n",
       "</style>\n",
       "<table border=\"1\" class=\"dataframe\">\n",
       "  <thead>\n",
       "    <tr style=\"text-align: right;\">\n",
       "      <th></th>\n",
       "      <th>sr#</th>\n",
       "      <th>Before</th>\n",
       "      <th>After</th>\n",
       "    </tr>\n",
       "  </thead>\n",
       "  <tbody>\n",
       "    <tr>\n",
       "      <th>0</th>\n",
       "      <td>1</td>\n",
       "      <td>10</td>\n",
       "      <td>15</td>\n",
       "    </tr>\n",
       "    <tr>\n",
       "      <th>1</th>\n",
       "      <td>2</td>\n",
       "      <td>12</td>\n",
       "      <td>17</td>\n",
       "    </tr>\n",
       "    <tr>\n",
       "      <th>2</th>\n",
       "      <td>3</td>\n",
       "      <td>14</td>\n",
       "      <td>20</td>\n",
       "    </tr>\n",
       "    <tr>\n",
       "      <th>3</th>\n",
       "      <td>4</td>\n",
       "      <td>8</td>\n",
       "      <td>14</td>\n",
       "    </tr>\n",
       "    <tr>\n",
       "      <th>4</th>\n",
       "      <td>5</td>\n",
       "      <td>11</td>\n",
       "      <td>16</td>\n",
       "    </tr>\n",
       "  </tbody>\n",
       "</table>\n",
       "</div>"
      ],
      "text/plain": [
       "   sr#  Before  After\n",
       "0    1      10     15\n",
       "1    2      12     17\n",
       "2    3      14     20\n",
       "3    4       8     14\n",
       "4    5      11     16"
      ]
     },
     "execution_count": 74,
     "metadata": {},
     "output_type": "execute_result"
    }
   ],
   "source": [
    "df.head()"
   ]
  },
  {
   "cell_type": "code",
   "execution_count": 76,
   "id": "9f1e2906-5571-463a-bd16-87a0773091c4",
   "metadata": {},
   "outputs": [
    {
     "data": {
      "text/html": [
       "<div>\n",
       "<style scoped>\n",
       "    .dataframe tbody tr th:only-of-type {\n",
       "        vertical-align: middle;\n",
       "    }\n",
       "\n",
       "    .dataframe tbody tr th {\n",
       "        vertical-align: top;\n",
       "    }\n",
       "\n",
       "    .dataframe thead th {\n",
       "        text-align: right;\n",
       "    }\n",
       "</style>\n",
       "<table border=\"1\" class=\"dataframe\">\n",
       "  <thead>\n",
       "    <tr style=\"text-align: right;\">\n",
       "      <th></th>\n",
       "      <th>sr#</th>\n",
       "      <th>Before</th>\n",
       "      <th>After</th>\n",
       "    </tr>\n",
       "  </thead>\n",
       "  <tbody>\n",
       "    <tr>\n",
       "      <th>count</th>\n",
       "      <td>20.00000</td>\n",
       "      <td>20.000000</td>\n",
       "      <td>20.00000</td>\n",
       "    </tr>\n",
       "    <tr>\n",
       "      <th>mean</th>\n",
       "      <td>10.50000</td>\n",
       "      <td>10.250000</td>\n",
       "      <td>15.15000</td>\n",
       "    </tr>\n",
       "    <tr>\n",
       "      <th>std</th>\n",
       "      <td>5.91608</td>\n",
       "      <td>2.446802</td>\n",
       "      <td>3.09966</td>\n",
       "    </tr>\n",
       "    <tr>\n",
       "      <th>min</th>\n",
       "      <td>1.00000</td>\n",
       "      <td>6.000000</td>\n",
       "      <td>10.00000</td>\n",
       "    </tr>\n",
       "    <tr>\n",
       "      <th>25%</th>\n",
       "      <td>5.75000</td>\n",
       "      <td>8.750000</td>\n",
       "      <td>12.75000</td>\n",
       "    </tr>\n",
       "    <tr>\n",
       "      <th>50%</th>\n",
       "      <td>10.50000</td>\n",
       "      <td>10.000000</td>\n",
       "      <td>15.00000</td>\n",
       "    </tr>\n",
       "    <tr>\n",
       "      <th>75%</th>\n",
       "      <td>15.25000</td>\n",
       "      <td>12.000000</td>\n",
       "      <td>17.25000</td>\n",
       "    </tr>\n",
       "    <tr>\n",
       "      <th>max</th>\n",
       "      <td>20.00000</td>\n",
       "      <td>15.000000</td>\n",
       "      <td>21.00000</td>\n",
       "    </tr>\n",
       "  </tbody>\n",
       "</table>\n",
       "</div>"
      ],
      "text/plain": [
       "            sr#     Before     After\n",
       "count  20.00000  20.000000  20.00000\n",
       "mean   10.50000  10.250000  15.15000\n",
       "std     5.91608   2.446802   3.09966\n",
       "min     1.00000   6.000000  10.00000\n",
       "25%     5.75000   8.750000  12.75000\n",
       "50%    10.50000  10.000000  15.00000\n",
       "75%    15.25000  12.000000  17.25000\n",
       "max    20.00000  15.000000  21.00000"
      ]
     },
     "execution_count": 76,
     "metadata": {},
     "output_type": "execute_result"
    }
   ],
   "source": [
    "df.describe()"
   ]
  },
  {
   "cell_type": "code",
   "execution_count": 78,
   "id": "654639af-4e1a-4f1d-836e-1a4eaf374d26",
   "metadata": {},
   "outputs": [
    {
     "data": {
      "text/plain": [
       "TtestResult(statistic=21.46620552864385, pvalue=4.383799478159714e-15, df=19)"
      ]
     },
     "execution_count": 78,
     "metadata": {},
     "output_type": "execute_result"
    }
   ],
   "source": [
    "# Be aware of the order of factor in the function\n",
    "ttest_rel(df['After'], df['Before'], alternative='greater')"
   ]
  },
  {
   "cell_type": "code",
   "execution_count": 80,
   "id": "8ae39911-dae1-4232-92c8-69f948a04de0",
   "metadata": {},
   "outputs": [
    {
     "data": {
      "text/plain": [
       "TtestResult(statistic=-21.46620552864385, pvalue=4.383799478159714e-15, df=19)"
      ]
     },
     "execution_count": 80,
     "metadata": {},
     "output_type": "execute_result"
    }
   ],
   "source": [
    "ttest_rel(df['Before'], df['After'], alternative='less')"
   ]
  },
  {
   "cell_type": "markdown",
   "id": "ee73624b-5be4-4b48-9eac-557707aee5ed",
   "metadata": {},
   "source": [
    "# Analysis of Variance | ANOVA"
   ]
  },
  {
   "cell_type": "code",
   "execution_count": 91,
   "id": "4b7e2586-2e47-4521-b43c-274b67df8254",
   "metadata": {},
   "outputs": [],
   "source": [
    "df = pd.read_excel(proj_dir+'\\\\Views_by_Genre.xlsx', sheet_name='Hoja1')"
   ]
  },
  {
   "cell_type": "code",
   "execution_count": 93,
   "id": "e93aacc4-5dea-419d-8b02-6c37e38d9095",
   "metadata": {},
   "outputs": [
    {
     "data": {
      "text/html": [
       "<div>\n",
       "<style scoped>\n",
       "    .dataframe tbody tr th:only-of-type {\n",
       "        vertical-align: middle;\n",
       "    }\n",
       "\n",
       "    .dataframe tbody tr th {\n",
       "        vertical-align: top;\n",
       "    }\n",
       "\n",
       "    .dataframe thead th {\n",
       "        text-align: right;\n",
       "    }\n",
       "</style>\n",
       "<table border=\"1\" class=\"dataframe\">\n",
       "  <thead>\n",
       "    <tr style=\"text-align: right;\">\n",
       "      <th></th>\n",
       "      <th>sr#</th>\n",
       "      <th>Genre1</th>\n",
       "      <th>Genre2</th>\n",
       "      <th>Genre3</th>\n",
       "    </tr>\n",
       "  </thead>\n",
       "  <tbody>\n",
       "    <tr>\n",
       "      <th>0</th>\n",
       "      <td>1</td>\n",
       "      <td>59</td>\n",
       "      <td>52</td>\n",
       "      <td>44</td>\n",
       "    </tr>\n",
       "    <tr>\n",
       "      <th>1</th>\n",
       "      <td>2</td>\n",
       "      <td>51</td>\n",
       "      <td>49</td>\n",
       "      <td>41</td>\n",
       "    </tr>\n",
       "    <tr>\n",
       "      <th>2</th>\n",
       "      <td>3</td>\n",
       "      <td>52</td>\n",
       "      <td>53</td>\n",
       "      <td>39</td>\n",
       "    </tr>\n",
       "    <tr>\n",
       "      <th>3</th>\n",
       "      <td>4</td>\n",
       "      <td>45</td>\n",
       "      <td>58</td>\n",
       "      <td>38</td>\n",
       "    </tr>\n",
       "    <tr>\n",
       "      <th>4</th>\n",
       "      <td>5</td>\n",
       "      <td>49</td>\n",
       "      <td>49</td>\n",
       "      <td>33</td>\n",
       "    </tr>\n",
       "    <tr>\n",
       "      <th>5</th>\n",
       "      <td>6</td>\n",
       "      <td>53</td>\n",
       "      <td>49</td>\n",
       "      <td>36</td>\n",
       "    </tr>\n",
       "    <tr>\n",
       "      <th>6</th>\n",
       "      <td>7</td>\n",
       "      <td>46</td>\n",
       "      <td>58</td>\n",
       "      <td>38</td>\n",
       "    </tr>\n",
       "    <tr>\n",
       "      <th>7</th>\n",
       "      <td>8</td>\n",
       "      <td>54</td>\n",
       "      <td>54</td>\n",
       "      <td>45</td>\n",
       "    </tr>\n",
       "    <tr>\n",
       "      <th>8</th>\n",
       "      <td>9</td>\n",
       "      <td>49</td>\n",
       "      <td>48</td>\n",
       "      <td>42</td>\n",
       "    </tr>\n",
       "    <tr>\n",
       "      <th>9</th>\n",
       "      <td>10</td>\n",
       "      <td>51</td>\n",
       "      <td>53</td>\n",
       "      <td>31</td>\n",
       "    </tr>\n",
       "  </tbody>\n",
       "</table>\n",
       "</div>"
      ],
      "text/plain": [
       "   sr#  Genre1  Genre2  Genre3\n",
       "0    1      59      52      44\n",
       "1    2      51      49      41\n",
       "2    3      52      53      39\n",
       "3    4      45      58      38\n",
       "4    5      49      49      33\n",
       "5    6      53      49      36\n",
       "6    7      46      58      38\n",
       "7    8      54      54      45\n",
       "8    9      49      48      42\n",
       "9   10      51      53      31"
      ]
     },
     "execution_count": 93,
     "metadata": {},
     "output_type": "execute_result"
    }
   ],
   "source": [
    "df.head(10)"
   ]
  },
  {
   "cell_type": "code",
   "execution_count": 95,
   "id": "79d53e8d-9824-45f8-a9df-fe62892a2b5a",
   "metadata": {},
   "outputs": [],
   "source": [
    "df.drop('sr#', axis=1, inplace=True)"
   ]
  },
  {
   "cell_type": "code",
   "execution_count": 101,
   "id": "0596d51e-50ca-4c79-a5ad-06ea4a18ad1f",
   "metadata": {},
   "outputs": [
    {
     "data": {
      "text/html": [
       "<div>\n",
       "<style scoped>\n",
       "    .dataframe tbody tr th:only-of-type {\n",
       "        vertical-align: middle;\n",
       "    }\n",
       "\n",
       "    .dataframe tbody tr th {\n",
       "        vertical-align: top;\n",
       "    }\n",
       "\n",
       "    .dataframe thead th {\n",
       "        text-align: right;\n",
       "    }\n",
       "</style>\n",
       "<table border=\"1\" class=\"dataframe\">\n",
       "  <thead>\n",
       "    <tr style=\"text-align: right;\">\n",
       "      <th></th>\n",
       "      <th>Genre</th>\n",
       "      <th>Views</th>\n",
       "    </tr>\n",
       "  </thead>\n",
       "  <tbody>\n",
       "    <tr>\n",
       "      <th>0</th>\n",
       "      <td>Genre1</td>\n",
       "      <td>59</td>\n",
       "    </tr>\n",
       "    <tr>\n",
       "      <th>1</th>\n",
       "      <td>Genre1</td>\n",
       "      <td>51</td>\n",
       "    </tr>\n",
       "    <tr>\n",
       "      <th>2</th>\n",
       "      <td>Genre1</td>\n",
       "      <td>52</td>\n",
       "    </tr>\n",
       "    <tr>\n",
       "      <th>3</th>\n",
       "      <td>Genre1</td>\n",
       "      <td>45</td>\n",
       "    </tr>\n",
       "    <tr>\n",
       "      <th>4</th>\n",
       "      <td>Genre1</td>\n",
       "      <td>49</td>\n",
       "    </tr>\n",
       "    <tr>\n",
       "      <th>5</th>\n",
       "      <td>Genre1</td>\n",
       "      <td>53</td>\n",
       "    </tr>\n",
       "    <tr>\n",
       "      <th>6</th>\n",
       "      <td>Genre1</td>\n",
       "      <td>46</td>\n",
       "    </tr>\n",
       "    <tr>\n",
       "      <th>7</th>\n",
       "      <td>Genre1</td>\n",
       "      <td>54</td>\n",
       "    </tr>\n",
       "    <tr>\n",
       "      <th>8</th>\n",
       "      <td>Genre1</td>\n",
       "      <td>49</td>\n",
       "    </tr>\n",
       "    <tr>\n",
       "      <th>9</th>\n",
       "      <td>Genre1</td>\n",
       "      <td>51</td>\n",
       "    </tr>\n",
       "    <tr>\n",
       "      <th>10</th>\n",
       "      <td>Genre1</td>\n",
       "      <td>49</td>\n",
       "    </tr>\n",
       "    <tr>\n",
       "      <th>11</th>\n",
       "      <td>Genre1</td>\n",
       "      <td>61</td>\n",
       "    </tr>\n",
       "    <tr>\n",
       "      <th>12</th>\n",
       "      <td>Genre1</td>\n",
       "      <td>52</td>\n",
       "    </tr>\n",
       "    <tr>\n",
       "      <th>13</th>\n",
       "      <td>Genre1</td>\n",
       "      <td>47</td>\n",
       "    </tr>\n",
       "    <tr>\n",
       "      <th>14</th>\n",
       "      <td>Genre1</td>\n",
       "      <td>56</td>\n",
       "    </tr>\n",
       "    <tr>\n",
       "      <th>15</th>\n",
       "      <td>Genre1</td>\n",
       "      <td>46</td>\n",
       "    </tr>\n",
       "    <tr>\n",
       "      <th>16</th>\n",
       "      <td>Genre1</td>\n",
       "      <td>53</td>\n",
       "    </tr>\n",
       "    <tr>\n",
       "      <th>17</th>\n",
       "      <td>Genre1</td>\n",
       "      <td>42</td>\n",
       "    </tr>\n",
       "    <tr>\n",
       "      <th>18</th>\n",
       "      <td>Genre1</td>\n",
       "      <td>45</td>\n",
       "    </tr>\n",
       "    <tr>\n",
       "      <th>19</th>\n",
       "      <td>Genre1</td>\n",
       "      <td>53</td>\n",
       "    </tr>\n",
       "    <tr>\n",
       "      <th>20</th>\n",
       "      <td>Genre2</td>\n",
       "      <td>52</td>\n",
       "    </tr>\n",
       "    <tr>\n",
       "      <th>21</th>\n",
       "      <td>Genre2</td>\n",
       "      <td>49</td>\n",
       "    </tr>\n",
       "    <tr>\n",
       "      <th>22</th>\n",
       "      <td>Genre2</td>\n",
       "      <td>53</td>\n",
       "    </tr>\n",
       "    <tr>\n",
       "      <th>23</th>\n",
       "      <td>Genre2</td>\n",
       "      <td>58</td>\n",
       "    </tr>\n",
       "    <tr>\n",
       "      <th>24</th>\n",
       "      <td>Genre2</td>\n",
       "      <td>49</td>\n",
       "    </tr>\n",
       "    <tr>\n",
       "      <th>25</th>\n",
       "      <td>Genre2</td>\n",
       "      <td>49</td>\n",
       "    </tr>\n",
       "    <tr>\n",
       "      <th>26</th>\n",
       "      <td>Genre2</td>\n",
       "      <td>58</td>\n",
       "    </tr>\n",
       "    <tr>\n",
       "      <th>27</th>\n",
       "      <td>Genre2</td>\n",
       "      <td>54</td>\n",
       "    </tr>\n",
       "    <tr>\n",
       "      <th>28</th>\n",
       "      <td>Genre2</td>\n",
       "      <td>48</td>\n",
       "    </tr>\n",
       "    <tr>\n",
       "      <th>29</th>\n",
       "      <td>Genre2</td>\n",
       "      <td>53</td>\n",
       "    </tr>\n",
       "  </tbody>\n",
       "</table>\n",
       "</div>"
      ],
      "text/plain": [
       "     Genre  Views\n",
       "0   Genre1     59\n",
       "1   Genre1     51\n",
       "2   Genre1     52\n",
       "3   Genre1     45\n",
       "4   Genre1     49\n",
       "5   Genre1     53\n",
       "6   Genre1     46\n",
       "7   Genre1     54\n",
       "8   Genre1     49\n",
       "9   Genre1     51\n",
       "10  Genre1     49\n",
       "11  Genre1     61\n",
       "12  Genre1     52\n",
       "13  Genre1     47\n",
       "14  Genre1     56\n",
       "15  Genre1     46\n",
       "16  Genre1     53\n",
       "17  Genre1     42\n",
       "18  Genre1     45\n",
       "19  Genre1     53\n",
       "20  Genre2     52\n",
       "21  Genre2     49\n",
       "22  Genre2     53\n",
       "23  Genre2     58\n",
       "24  Genre2     49\n",
       "25  Genre2     49\n",
       "26  Genre2     58\n",
       "27  Genre2     54\n",
       "28  Genre2     48\n",
       "29  Genre2     53"
      ]
     },
     "execution_count": 101,
     "metadata": {},
     "output_type": "execute_result"
    }
   ],
   "source": [
    "# Stack the columns using melt()\n",
    "stacked_df = pd.melt(df, var_name='Genre', value_name='Views')\n",
    "stacked_df.head(30)"
   ]
  },
  {
   "cell_type": "code",
   "execution_count": 103,
   "id": "67f76cd1-d9b8-40b8-a849-96287fa65ece",
   "metadata": {},
   "outputs": [
    {
     "data": {
      "text/html": [
       "<div>\n",
       "<style scoped>\n",
       "    .dataframe tbody tr th:only-of-type {\n",
       "        vertical-align: middle;\n",
       "    }\n",
       "\n",
       "    .dataframe tbody tr th {\n",
       "        vertical-align: top;\n",
       "    }\n",
       "\n",
       "    .dataframe thead th {\n",
       "        text-align: right;\n",
       "    }\n",
       "</style>\n",
       "<table border=\"1\" class=\"dataframe\">\n",
       "  <thead>\n",
       "    <tr style=\"text-align: right;\">\n",
       "      <th></th>\n",
       "      <th>df</th>\n",
       "      <th>sum_sq</th>\n",
       "      <th>mean_sq</th>\n",
       "      <th>F</th>\n",
       "      <th>PR(&gt;F)</th>\n",
       "    </tr>\n",
       "  </thead>\n",
       "  <tbody>\n",
       "    <tr>\n",
       "      <th>Genre</th>\n",
       "      <td>2.0</td>\n",
       "      <td>1355.833333</td>\n",
       "      <td>677.916667</td>\n",
       "      <td>31.495028</td>\n",
       "      <td>6.120594e-10</td>\n",
       "    </tr>\n",
       "    <tr>\n",
       "      <th>Residual</th>\n",
       "      <td>57.0</td>\n",
       "      <td>1226.900000</td>\n",
       "      <td>21.524561</td>\n",
       "      <td>NaN</td>\n",
       "      <td>NaN</td>\n",
       "    </tr>\n",
       "  </tbody>\n",
       "</table>\n",
       "</div>"
      ],
      "text/plain": [
       "            df       sum_sq     mean_sq          F        PR(>F)\n",
       "Genre      2.0  1355.833333  677.916667  31.495028  6.120594e-10\n",
       "Residual  57.0  1226.900000   21.524561        NaN           NaN"
      ]
     },
     "execution_count": 103,
     "metadata": {},
     "output_type": "execute_result"
    }
   ],
   "source": [
    "formula = 'Views ~ Genre'\n",
    "model = ols(formula, stacked_df).fit()\n",
    "anova_table = anova_lm(model)\n",
    "anova_table"
   ]
  },
  {
   "cell_type": "code",
   "execution_count": 107,
   "id": "92749fa4-ea6c-46a3-b705-488f540145a7",
   "metadata": {},
   "outputs": [
    {
     "data": {
      "text/plain": [
       "3.1588427192606465"
      ]
     },
     "execution_count": 107,
     "metadata": {},
     "output_type": "execute_result"
    }
   ],
   "source": [
    "# Significance level\n",
    "alpha = 0.05\n",
    "\n",
    "# Degrees of freedom numerator\n",
    "dfn = 2\n",
    "# Degrees of freedom denominator\n",
    "dfd = 57\n",
    "\n",
    "# Calculate the F critical value\n",
    "f_critical = f.ppf(1-alpha, dfn, dfd)\n",
    "f_critical"
   ]
  },
  {
   "cell_type": "markdown",
   "id": "5683b2d5-90bf-45e9-bfe1-4c95449c4d54",
   "metadata": {},
   "source": [
    "# Checking assumptions: normality & homogeneity | Shapiro-Wilk test | Levene test"
   ]
  },
  {
   "cell_type": "code",
   "execution_count": 132,
   "id": "6c0de524-bbee-48db-9e42-15ab331c6c6c",
   "metadata": {},
   "outputs": [],
   "source": [
    "np.random.seed(42)\n",
    "\n",
    "# Generate random samples\n",
    "#sample1 = np.random.normal(loc=0, scale=1, size=30)\n",
    "sample1 = np.random.normal(loc=0, scale=0.5, size=30)\n",
    "sample2 = np.random.normal(loc=0, scale=1, size=30)"
   ]
  },
  {
   "cell_type": "code",
   "execution_count": 134,
   "id": "b7e46d15-2d3d-47ad-a70a-e92632cce757",
   "metadata": {},
   "outputs": [
    {
     "data": {
      "text/plain": [
       "(array([ 0.24835708, -0.06913215,  0.32384427,  0.76151493, -0.11707669,\n",
       "        -0.11706848,  0.78960641,  0.38371736, -0.23473719,  0.27128002,\n",
       "        -0.23170885, -0.23286488,  0.12098114, -0.95664012, -0.86245892,\n",
       "        -0.28114376, -0.50641556,  0.15712367, -0.45401204, -0.70615185,\n",
       "         0.73282438, -0.11288815,  0.0337641 , -0.71237409, -0.27219136,\n",
       "         0.05546129, -0.57549679,  0.18784901, -0.30031934, -0.14584687]),\n",
       " array([-0.60170661,  1.85227818, -0.01349722, -1.05771093,  0.82254491,\n",
       "        -1.22084365,  0.2088636 , -1.95967012, -1.32818605,  0.19686124,\n",
       "         0.73846658,  0.17136828, -0.11564828, -0.3011037 , -1.47852199,\n",
       "        -0.71984421, -0.46063877,  1.05712223,  0.34361829, -1.76304016,\n",
       "         0.32408397, -0.38508228, -0.676922  ,  0.61167629,  1.03099952,\n",
       "         0.93128012, -0.83921752, -0.30921238,  0.33126343,  0.97554513]))"
      ]
     },
     "execution_count": 134,
     "metadata": {},
     "output_type": "execute_result"
    }
   ],
   "source": [
    "sample1, sample2"
   ]
  },
  {
   "cell_type": "code",
   "execution_count": 136,
   "id": "eb4f8c84-4037-4567-a1ee-63860752a8b5",
   "metadata": {},
   "outputs": [
    {
     "data": {
      "image/png": "[encoded data removed]",
      "text/plain": [
       "<Figure size 640x480 with 1 Axes>"
      ]
     },
     "metadata": {},
     "output_type": "display_data"
    }
   ],
   "source": [
    "sm.qqplot(sample1, line='s')\n",
    "plt.title('QQ Plot - Sample 1')\n",
    "plt.show()"
   ]
  },
  {
   "cell_type": "code",
   "execution_count": 138,
   "id": "13acd514-b695-4fc5-be33-61cdbe98d05d",
   "metadata": {},
   "outputs": [
    {
     "data": {
      "image/png": "[encoded data removed]",
      "text/plain": [
       "<Figure size 640x480 with 1 Axes>"
      ]
     },
     "metadata": {},
     "output_type": "display_data"
    }
   ],
   "source": [
    "sm.qqplot(sample2, line='s')\n",
    "plt.title('QQ Plot - Sample 2')\n",
    "plt.show()"
   ]
  },
  {
   "cell_type": "code",
   "execution_count": 140,
   "id": "204ec014-faf3-4d0b-a656-53a2bb10120c",
   "metadata": {},
   "outputs": [
    {
     "name": "stdout",
     "output_type": "stream",
     "text": [
      "Shapiro p_value Sample 1:  0.687\n",
      "Shapiro p_value Sample 2:  0.913\n",
      "Both numbers are greater than 0.05, so the null hypothesis is rejected. This means, the samples are normally distributed\n"
     ]
    }
   ],
   "source": [
    "# Shapiro-Wilk test for normality\n",
    "test_statistic1, p_value1 = shapiro(sample1)\n",
    "print('Shapiro p_value Sample 1: ', round(p_value1, 3))\n",
    "\n",
    "test_statistic2, p_value2 = shapiro(sample2)\n",
    "print('Shapiro p_value Sample 2: ', round(p_value2, 3))\n",
    "print('Both numbers are greater than 0.05, so the null hypothesis is rejected. This means, the samples are normally distributed')"
   ]
  },
  {
   "cell_type": "code",
   "execution_count": 142,
   "id": "e5fd2fb7-cc79-4bfd-bf87-7e1f758db87d",
   "metadata": {},
   "outputs": [
    {
     "name": "stdout",
     "output_type": "stream",
     "text": [
      "Levene's p_value for Homogeneity:  0.0\n"
     ]
    }
   ],
   "source": [
    "# Levene's test for homogeneity of variances\n",
    "test_statistic_levene, p_value_levene = levene(sample1, sample2, center='mean')\n",
    "print(\"Levene's p_value for Homogeneity: \", round(p_value_levene, 3))"
   ]
  },
  {
   "cell_type": "markdown",
   "id": "73fbd19a-33b9-4452-96e1-d485e3a0e631",
   "metadata": {},
   "source": [
    "# One sample sign-test | Non-parametric tests"
   ]
  },
  {
   "cell_type": "code",
   "execution_count": 153,
   "id": "e680c644-5d6d-4486-b041-77ffeb590fa1",
   "metadata": {},
   "outputs": [
    {
     "data": {
      "text/plain": [
       "BinomTestResult(k=6, n=14, alternative='two-sided', statistic=0.42857142857142855, pvalue=0.79052734375)"
      ]
     },
     "execution_count": 153,
     "metadata": {},
     "output_type": "execute_result"
    }
   ],
   "source": [
    "# Sample data of observed positive and negative signs\n",
    "positive_signs = 6\n",
    "negative_signs = 8\n",
    "n = positive_signs+negative_signs\n",
    "\n",
    "# Perform one sample sign test and obtain p-value\n",
    "p_value = binomtest( min(positive_signs, negative_signs), n, p=0.5, alternative='two-sided')\n",
    "p_value"
   ]
  },
  {
   "cell_type": "markdown",
   "id": "94ce8bcb-880a-4bb7-b939-2e934d674177",
   "metadata": {},
   "source": [
    "# Wilcoxon signed rank test"
   ]
  },
  {
   "cell_type": "code",
   "execution_count": 4,
   "id": "d2f44e9a-a7e7-46da-be0f-61ffdf12f52a",
   "metadata": {},
   "outputs": [],
   "source": [
    "df = df = pd.read_excel(proj_dir+'\\\\Insurance_Offer.xlsx')"
   ]
  },
  {
   "cell_type": "code",
   "execution_count": 6,
   "id": "4262f14a-224f-4499-9181-f17937283be1",
   "metadata": {},
   "outputs": [
    {
     "data": {
      "text/html": [
       "<div>\n",
       "<style scoped>\n",
       "    .dataframe tbody tr th:only-of-type {\n",
       "        vertical-align: middle;\n",
       "    }\n",
       "\n",
       "    .dataframe tbody tr th {\n",
       "        vertical-align: top;\n",
       "    }\n",
       "\n",
       "    .dataframe thead th {\n",
       "        text-align: right;\n",
       "    }\n",
       "</style>\n",
       "<table border=\"1\" class=\"dataframe\">\n",
       "  <thead>\n",
       "    <tr style=\"text-align: right;\">\n",
       "      <th></th>\n",
       "      <th>Old_Offer</th>\n",
       "      <th>New_Offer</th>\n",
       "      <th>Difference</th>\n",
       "      <th>Abs diff</th>\n",
       "      <th>Rank</th>\n",
       "      <th>Neg Ranks</th>\n",
       "      <th>Pos Ranks</th>\n",
       "    </tr>\n",
       "  </thead>\n",
       "  <tbody>\n",
       "    <tr>\n",
       "      <th>0</th>\n",
       "      <td>385.0</td>\n",
       "      <td>385.0</td>\n",
       "      <td>0.0</td>\n",
       "      <td>0.0</td>\n",
       "      <td>NaN</td>\n",
       "      <td>NaN</td>\n",
       "      <td>NaN</td>\n",
       "    </tr>\n",
       "    <tr>\n",
       "      <th>1</th>\n",
       "      <td>348.0</td>\n",
       "      <td>386.0</td>\n",
       "      <td>-38.0</td>\n",
       "      <td>38.0</td>\n",
       "      <td>1.0</td>\n",
       "      <td>1</td>\n",
       "      <td>NaN</td>\n",
       "    </tr>\n",
       "    <tr>\n",
       "      <th>2</th>\n",
       "      <td>376.0</td>\n",
       "      <td>300.0</td>\n",
       "      <td>76.0</td>\n",
       "      <td>76.0</td>\n",
       "      <td>2.0</td>\n",
       "      <td>NaN</td>\n",
       "      <td>2</td>\n",
       "    </tr>\n",
       "    <tr>\n",
       "      <th>3</th>\n",
       "      <td>368.0</td>\n",
       "      <td>283.0</td>\n",
       "      <td>85.0</td>\n",
       "      <td>85.0</td>\n",
       "      <td>3.0</td>\n",
       "      <td>NaN</td>\n",
       "      <td>3</td>\n",
       "    </tr>\n",
       "    <tr>\n",
       "      <th>4</th>\n",
       "      <td>376.0</td>\n",
       "      <td>274.0</td>\n",
       "      <td>102.0</td>\n",
       "      <td>102.0</td>\n",
       "      <td>4.5</td>\n",
       "      <td>NaN</td>\n",
       "      <td>4.5</td>\n",
       "    </tr>\n",
       "  </tbody>\n",
       "</table>\n",
       "</div>"
      ],
      "text/plain": [
       "   Old_Offer  New_Offer  Difference  Abs diff  Rank Neg Ranks Pos Ranks\n",
       "0      385.0      385.0         0.0       0.0   NaN       NaN       NaN\n",
       "1      348.0      386.0       -38.0      38.0   1.0         1       NaN\n",
       "2      376.0      300.0        76.0      76.0   2.0       NaN         2\n",
       "3      368.0      283.0        85.0      85.0   3.0       NaN         3\n",
       "4      376.0      274.0       102.0     102.0   4.5       NaN       4.5"
      ]
     },
     "execution_count": 6,
     "metadata": {},
     "output_type": "execute_result"
    }
   ],
   "source": [
    "df.head()"
   ]
  },
  {
   "cell_type": "code",
   "execution_count": 8,
   "id": "3f78956e-5b14-4fe4-b07e-df45b5b04eb4",
   "metadata": {},
   "outputs": [
    {
     "data": {
      "text/plain": [
       "WilcoxonResult(statistic=26.5, pvalue=0.5629317220458527)"
      ]
     },
     "execution_count": 8,
     "metadata": {},
     "output_type": "execute_result"
    }
   ],
   "source": [
    "wilcoxon(df['Old_Offer'], df['New_Offer'], alternative='two-sided', nan_policy='omit')"
   ]
  },
  {
   "cell_type": "markdown",
   "id": "e20c658c-71e2-47bf-a9c8-7aa57f2c993c",
   "metadata": {},
   "source": [
    "# Mann-Whitney U test"
   ]
  },
  {
   "cell_type": "code",
   "execution_count": 19,
   "id": "f4971272-2547-47ee-96f0-0271d38df827",
   "metadata": {},
   "outputs": [],
   "source": [
    "df = df = pd.read_excel(proj_dir+'\\\\MWU.xlsx')"
   ]
  },
  {
   "cell_type": "code",
   "execution_count": 27,
   "id": "64550edc-9acd-4b32-870a-9943d8cb00a9",
   "metadata": {},
   "outputs": [
    {
     "data": {
      "text/html": [
       "<div>\n",
       "<style scoped>\n",
       "    .dataframe tbody tr th:only-of-type {\n",
       "        vertical-align: middle;\n",
       "    }\n",
       "\n",
       "    .dataframe tbody tr th {\n",
       "        vertical-align: top;\n",
       "    }\n",
       "\n",
       "    .dataframe thead th {\n",
       "        text-align: right;\n",
       "    }\n",
       "</style>\n",
       "<table border=\"1\" class=\"dataframe\">\n",
       "  <thead>\n",
       "    <tr style=\"text-align: right;\">\n",
       "      <th></th>\n",
       "      <th>Group 1</th>\n",
       "      <th>Group 2</th>\n",
       "      <th>Unnamed: 2</th>\n",
       "      <th>Group</th>\n",
       "      <th>Observation</th>\n",
       "      <th>Rank (prep)</th>\n",
       "      <th>Rank</th>\n",
       "      <th>Rank (formula)</th>\n",
       "    </tr>\n",
       "  </thead>\n",
       "  <tbody>\n",
       "    <tr>\n",
       "      <th>0</th>\n",
       "      <td>16.0</td>\n",
       "      <td>13.0</td>\n",
       "      <td>NaN</td>\n",
       "      <td>Group 1</td>\n",
       "      <td>11.0</td>\n",
       "      <td>1</td>\n",
       "      <td>1.5</td>\n",
       "      <td>1.5</td>\n",
       "    </tr>\n",
       "    <tr>\n",
       "      <th>1</th>\n",
       "      <td>11.0</td>\n",
       "      <td>25.0</td>\n",
       "      <td>NaN</td>\n",
       "      <td>Group 1</td>\n",
       "      <td>11.0</td>\n",
       "      <td>2</td>\n",
       "      <td>1.5</td>\n",
       "      <td>1.5</td>\n",
       "    </tr>\n",
       "    <tr>\n",
       "      <th>2</th>\n",
       "      <td>15.0</td>\n",
       "      <td>25.0</td>\n",
       "      <td>NaN</td>\n",
       "      <td>Group 2</td>\n",
       "      <td>13.0</td>\n",
       "      <td>3</td>\n",
       "      <td>4</td>\n",
       "      <td>4.0</td>\n",
       "    </tr>\n",
       "    <tr>\n",
       "      <th>3</th>\n",
       "      <td>19.0</td>\n",
       "      <td>13.0</td>\n",
       "      <td>NaN</td>\n",
       "      <td>Group 2</td>\n",
       "      <td>13.0</td>\n",
       "      <td>4</td>\n",
       "      <td>4</td>\n",
       "      <td>4.0</td>\n",
       "    </tr>\n",
       "    <tr>\n",
       "      <th>4</th>\n",
       "      <td>20.0</td>\n",
       "      <td>16.0</td>\n",
       "      <td>NaN</td>\n",
       "      <td>Group 2</td>\n",
       "      <td>13.0</td>\n",
       "      <td>5</td>\n",
       "      <td>4</td>\n",
       "      <td>4.0</td>\n",
       "    </tr>\n",
       "  </tbody>\n",
       "</table>\n",
       "</div>"
      ],
      "text/plain": [
       "   Group 1  Group 2  Unnamed: 2    Group  Observation Rank (prep) Rank  \\\n",
       "0     16.0     13.0         NaN  Group 1         11.0           1  1.5   \n",
       "1     11.0     25.0         NaN  Group 1         11.0           2  1.5   \n",
       "2     15.0     25.0         NaN  Group 2         13.0           3    4   \n",
       "3     19.0     13.0         NaN  Group 2         13.0           4    4   \n",
       "4     20.0     16.0         NaN  Group 2         13.0           5    4   \n",
       "\n",
       "   Rank (formula)  \n",
       "0             1.5  \n",
       "1             1.5  \n",
       "2             4.0  \n",
       "3             4.0  \n",
       "4             4.0  "
      ]
     },
     "execution_count": 27,
     "metadata": {},
     "output_type": "execute_result"
    }
   ],
   "source": [
    "df.head()"
   ]
  },
  {
   "cell_type": "code",
   "execution_count": 23,
   "id": "71fc95dc-6352-407d-9ec6-c080c0bc4d95",
   "metadata": {},
   "outputs": [
    {
     "data": {
      "text/plain": [
       "MannwhitneyuResult(statistic=35.0, pvalue=0.6866615954018572)"
      ]
     },
     "execution_count": 23,
     "metadata": {},
     "output_type": "execute_result"
    }
   ],
   "source": [
    "mannwhitneyu(df['Group 1'], df['Group 2'], nan_policy='omit', alternative='two-sided')"
   ]
  },
  {
   "cell_type": "markdown",
   "id": "2ac9addf-8a17-4d71-98f2-9e6566d67670",
   "metadata": {},
   "source": [
    "# Kruskal-Wallis test"
   ]
  },
  {
   "cell_type": "code",
   "execution_count": 38,
   "id": "3b2abdb4-6074-42ca-b2a9-b77ec798605d",
   "metadata": {},
   "outputs": [],
   "source": [
    "df = df = pd.read_excel(proj_dir+'\\\\Programming_Languages.xlsx')"
   ]
  },
  {
   "cell_type": "code",
   "execution_count": 40,
   "id": "9eae4441-b593-4b31-8632-f7abbae6805c",
   "metadata": {},
   "outputs": [
    {
     "data": {
      "text/html": [
       "<div>\n",
       "<style scoped>\n",
       "    .dataframe tbody tr th:only-of-type {\n",
       "        vertical-align: middle;\n",
       "    }\n",
       "\n",
       "    .dataframe tbody tr th {\n",
       "        vertical-align: top;\n",
       "    }\n",
       "\n",
       "    .dataframe thead th {\n",
       "        text-align: right;\n",
       "    }\n",
       "</style>\n",
       "<table border=\"1\" class=\"dataframe\">\n",
       "  <thead>\n",
       "    <tr style=\"text-align: right;\">\n",
       "      <th></th>\n",
       "      <th>sr#</th>\n",
       "      <th>P1</th>\n",
       "      <th>P2</th>\n",
       "      <th>P3</th>\n",
       "      <th>Unnamed: 4</th>\n",
       "      <th>n1</th>\n",
       "      <th>n2</th>\n",
       "      <th>n3</th>\n",
       "      <th>N</th>\n",
       "      <th>Unnamed: 9</th>\n",
       "      <th>Language</th>\n",
       "      <th>Score</th>\n",
       "      <th>Rank</th>\n",
       "      <th>Rank Sum</th>\n",
       "    </tr>\n",
       "  </thead>\n",
       "  <tbody>\n",
       "    <tr>\n",
       "      <th>0</th>\n",
       "      <td>1.0</td>\n",
       "      <td>76.0</td>\n",
       "      <td>83.0</td>\n",
       "      <td>48.0</td>\n",
       "      <td>NaN</td>\n",
       "      <td>7</td>\n",
       "      <td>10.000000</td>\n",
       "      <td>8.0</td>\n",
       "      <td>25.0</td>\n",
       "      <td>NaN</td>\n",
       "      <td>P1</td>\n",
       "      <td>76</td>\n",
       "      <td>19.0</td>\n",
       "      <td>96.5</td>\n",
       "    </tr>\n",
       "    <tr>\n",
       "      <th>1</th>\n",
       "      <td>2.0</td>\n",
       "      <td>70.0</td>\n",
       "      <td>90.0</td>\n",
       "      <td>56.0</td>\n",
       "      <td>NaN</td>\n",
       "      <td>NaN</td>\n",
       "      <td>NaN</td>\n",
       "      <td>NaN</td>\n",
       "      <td>NaN</td>\n",
       "      <td>NaN</td>\n",
       "      <td>P1</td>\n",
       "      <td>70</td>\n",
       "      <td>17.0</td>\n",
       "      <td>NaN</td>\n",
       "    </tr>\n",
       "    <tr>\n",
       "      <th>2</th>\n",
       "      <td>3.0</td>\n",
       "      <td>52.0</td>\n",
       "      <td>56.0</td>\n",
       "      <td>37.0</td>\n",
       "      <td>NaN</td>\n",
       "      <td>NaN</td>\n",
       "      <td>NaN</td>\n",
       "      <td>NaN</td>\n",
       "      <td>NaN</td>\n",
       "      <td>NaN</td>\n",
       "      <td>P1</td>\n",
       "      <td>52</td>\n",
       "      <td>9.0</td>\n",
       "      <td>NaN</td>\n",
       "    </tr>\n",
       "    <tr>\n",
       "      <th>3</th>\n",
       "      <td>4.0</td>\n",
       "      <td>64.0</td>\n",
       "      <td>49.0</td>\n",
       "      <td>47.0</td>\n",
       "      <td>NaN</td>\n",
       "      <td>NaN</td>\n",
       "      <td>1330.321429</td>\n",
       "      <td>NaN</td>\n",
       "      <td>NaN</td>\n",
       "      <td>NaN</td>\n",
       "      <td>P1</td>\n",
       "      <td>64</td>\n",
       "      <td>15.0</td>\n",
       "      <td>NaN</td>\n",
       "    </tr>\n",
       "    <tr>\n",
       "      <th>4</th>\n",
       "      <td>5.0</td>\n",
       "      <td>50.0</td>\n",
       "      <td>88.0</td>\n",
       "      <td>37.0</td>\n",
       "      <td>NaN</td>\n",
       "      <td>NaN</td>\n",
       "      <td>3258.025000</td>\n",
       "      <td>NaN</td>\n",
       "      <td>NaN</td>\n",
       "      <td>NaN</td>\n",
       "      <td>P1</td>\n",
       "      <td>50</td>\n",
       "      <td>6.5</td>\n",
       "      <td>NaN</td>\n",
       "    </tr>\n",
       "  </tbody>\n",
       "</table>\n",
       "</div>"
      ],
      "text/plain": [
       "   sr#    P1    P2    P3  Unnamed: 4   n1           n2   n3     N  Unnamed: 9  \\\n",
       "0  1.0  76.0  83.0  48.0         NaN    7    10.000000  8.0  25.0         NaN   \n",
       "1  2.0  70.0  90.0  56.0         NaN  NaN          NaN  NaN   NaN         NaN   \n",
       "2  3.0  52.0  56.0  37.0         NaN  NaN          NaN  NaN   NaN         NaN   \n",
       "3  4.0  64.0  49.0  47.0         NaN  NaN  1330.321429  NaN   NaN         NaN   \n",
       "4  5.0  50.0  88.0  37.0         NaN  NaN  3258.025000  NaN   NaN         NaN   \n",
       "\n",
       "  Language  Score  Rank  Rank Sum  \n",
       "0       P1     76  19.0      96.5  \n",
       "1       P1     70  17.0       NaN  \n",
       "2       P1     52   9.0       NaN  \n",
       "3       P1     64  15.0       NaN  \n",
       "4       P1     50   6.5       NaN  "
      ]
     },
     "execution_count": 40,
     "metadata": {},
     "output_type": "execute_result"
    }
   ],
   "source": [
    "df.head()"
   ]
  },
  {
   "cell_type": "code",
   "execution_count": 44,
   "id": "4404b520-139b-4418-ba08-e170be2a3a5d",
   "metadata": {},
   "outputs": [
    {
     "data": {
      "text/plain": [
       "KruskalResult(statistic=12.057319155969383, pvalue=0.002408720517685041)"
      ]
     },
     "execution_count": 44,
     "metadata": {},
     "output_type": "execute_result"
    }
   ],
   "source": [
    "kruskal(df['P1'], df['P2'], df['P3'], nan_policy='omit')"
   ]
  },
  {
   "cell_type": "markdown",
   "id": "90500aff-f8a9-4401-86fe-9b8b36b82bca",
   "metadata": {},
   "source": [
    "# Chi-square test of independence"
   ]
  },
  {
   "cell_type": "code",
   "execution_count": 15,
   "id": "87e4219b-3b5e-43cd-994d-f81c4a25d7ea",
   "metadata": {},
   "outputs": [],
   "source": [
    "df = df = pd.read_excel(proj_dir+'\\\\App_preference.xlsx', sheet_name='Hoja1')"
   ]
  },
  {
   "cell_type": "code",
   "execution_count": 19,
   "id": "3eb6dd0d-250b-4c91-aacf-5f5ec093d94b",
   "metadata": {},
   "outputs": [
    {
     "data": {
      "text/html": [
       "<div>\n",
       "<style scoped>\n",
       "    .dataframe tbody tr th:only-of-type {\n",
       "        vertical-align: middle;\n",
       "    }\n",
       "\n",
       "    .dataframe tbody tr th {\n",
       "        vertical-align: top;\n",
       "    }\n",
       "\n",
       "    .dataframe thead th {\n",
       "        text-align: right;\n",
       "    }\n",
       "</style>\n",
       "<table border=\"1\" class=\"dataframe\">\n",
       "  <thead>\n",
       "    <tr style=\"text-align: right;\">\n",
       "      <th></th>\n",
       "      <th>Platform</th>\n",
       "      <th>Education</th>\n",
       "    </tr>\n",
       "  </thead>\n",
       "  <tbody>\n",
       "    <tr>\n",
       "      <th>0</th>\n",
       "      <td>P1</td>\n",
       "      <td>Tech</td>\n",
       "    </tr>\n",
       "    <tr>\n",
       "      <th>1</th>\n",
       "      <td>P1</td>\n",
       "      <td>Tech</td>\n",
       "    </tr>\n",
       "    <tr>\n",
       "      <th>2</th>\n",
       "      <td>P1</td>\n",
       "      <td>Tech</td>\n",
       "    </tr>\n",
       "    <tr>\n",
       "      <th>3</th>\n",
       "      <td>P1</td>\n",
       "      <td>Tech</td>\n",
       "    </tr>\n",
       "    <tr>\n",
       "      <th>4</th>\n",
       "      <td>P1</td>\n",
       "      <td>Tech</td>\n",
       "    </tr>\n",
       "  </tbody>\n",
       "</table>\n",
       "</div>"
      ],
      "text/plain": [
       "  Platform Education\n",
       "0       P1      Tech\n",
       "1       P1      Tech\n",
       "2       P1      Tech\n",
       "3       P1      Tech\n",
       "4       P1      Tech"
      ]
     },
     "execution_count": 19,
     "metadata": {},
     "output_type": "execute_result"
    }
   ],
   "source": [
    "df.head()"
   ]
  },
  {
   "cell_type": "code",
   "execution_count": 23,
   "id": "4339e70c-779e-4c31-bb21-df60f992bcd5",
   "metadata": {},
   "outputs": [
    {
     "data": {
      "text/html": [
       "<div>\n",
       "<style scoped>\n",
       "    .dataframe tbody tr th:only-of-type {\n",
       "        vertical-align: middle;\n",
       "    }\n",
       "\n",
       "    .dataframe tbody tr th {\n",
       "        vertical-align: top;\n",
       "    }\n",
       "\n",
       "    .dataframe thead th {\n",
       "        text-align: right;\n",
       "    }\n",
       "</style>\n",
       "<table border=\"1\" class=\"dataframe\">\n",
       "  <thead>\n",
       "    <tr style=\"text-align: right;\">\n",
       "      <th>Education</th>\n",
       "      <th>Non-tech</th>\n",
       "      <th>Tech</th>\n",
       "    </tr>\n",
       "    <tr>\n",
       "      <th>Platform</th>\n",
       "      <th></th>\n",
       "      <th></th>\n",
       "    </tr>\n",
       "  </thead>\n",
       "  <tbody>\n",
       "    <tr>\n",
       "      <th>P1</th>\n",
       "      <td>6</td>\n",
       "      <td>21</td>\n",
       "    </tr>\n",
       "    <tr>\n",
       "      <th>P2</th>\n",
       "      <td>18</td>\n",
       "      <td>15</td>\n",
       "    </tr>\n",
       "  </tbody>\n",
       "</table>\n",
       "</div>"
      ],
      "text/plain": [
       "Education  Non-tech  Tech\n",
       "Platform                 \n",
       "P1                6    21\n",
       "P2               18    15"
      ]
     },
     "execution_count": 23,
     "metadata": {},
     "output_type": "execute_result"
    }
   ],
   "source": [
    "ct = pd.crosstab(df['Platform'], df['Education'])\n",
    "ct"
   ]
  },
  {
   "cell_type": "code",
   "execution_count": 25,
   "id": "4f05eaf5-3367-4e08-92b2-04976840471b",
   "metadata": {},
   "outputs": [],
   "source": [
    "test_statistic, p_value, dof, table = chi2_contingency(ct, correction = False)"
   ]
  },
  {
   "cell_type": "code",
   "execution_count": 27,
   "id": "68b20a86-48c0-41a8-8189-c4b4f2348d69",
   "metadata": {},
   "outputs": [
    {
     "data": {
      "text/plain": [
       "(6.464646464646466, 0.01100415317686874)"
      ]
     },
     "execution_count": 27,
     "metadata": {},
     "output_type": "execute_result"
    }
   ],
   "source": [
    "test_statistic, p_value"
   ]
  },
  {
   "cell_type": "code",
   "execution_count": 29,
   "id": "43f6c8a7-4bbb-4901-9761-04bd90aa46e2",
   "metadata": {},
   "outputs": [
    {
     "data": {
      "text/plain": [
       "array([[10.8, 16.2],\n",
       "       [13.2, 19.8]])"
      ]
     },
     "execution_count": 29,
     "metadata": {},
     "output_type": "execute_result"
    }
   ],
   "source": [
    "table"
   ]
  },
  {
   "cell_type": "markdown",
   "id": "f59880f2-25d2-4ec9-b183-9d4dff633ba4",
   "metadata": {},
   "source": [
    "# One Sample Z test for proportions"
   ]
  },
  {
   "cell_type": "code",
   "execution_count": 34,
   "id": "f7691246-83fb-4dae-b409-27b687060b6b",
   "metadata": {},
   "outputs": [],
   "source": [
    "df = pd.read_excel(proj_dir+'\\\\Product_Rating.xlsx', sheet_name='Hoja1')"
   ]
  },
  {
   "cell_type": "code",
   "execution_count": 38,
   "id": "96de0e09-2238-4962-acec-9670bdf31d67",
   "metadata": {},
   "outputs": [
    {
     "data": {
      "text/html": [
       "<div>\n",
       "<style scoped>\n",
       "    .dataframe tbody tr th:only-of-type {\n",
       "        vertical-align: middle;\n",
       "    }\n",
       "\n",
       "    .dataframe tbody tr th {\n",
       "        vertical-align: top;\n",
       "    }\n",
       "\n",
       "    .dataframe thead th {\n",
       "        text-align: right;\n",
       "    }\n",
       "</style>\n",
       "<table border=\"1\" class=\"dataframe\">\n",
       "  <thead>\n",
       "    <tr style=\"text-align: right;\">\n",
       "      <th></th>\n",
       "      <th>Customer</th>\n",
       "      <th>Rating</th>\n",
       "      <th>Unnamed: 2</th>\n",
       "      <th>Unnamed: 3</th>\n",
       "      <th>Unnamed: 4</th>\n",
       "      <th>Unnamed: 5</th>\n",
       "    </tr>\n",
       "  </thead>\n",
       "  <tbody>\n",
       "    <tr>\n",
       "      <th>0</th>\n",
       "      <td>1</td>\n",
       "      <td>5</td>\n",
       "      <td>NaN</td>\n",
       "      <td>Total ratings</td>\n",
       "      <td>200.00</td>\n",
       "      <td>NaN</td>\n",
       "    </tr>\n",
       "    <tr>\n",
       "      <th>1</th>\n",
       "      <td>2</td>\n",
       "      <td>3</td>\n",
       "      <td>NaN</td>\n",
       "      <td>5 stars ratings</td>\n",
       "      <td>160.00</td>\n",
       "      <td>NaN</td>\n",
       "    </tr>\n",
       "    <tr>\n",
       "      <th>2</th>\n",
       "      <td>3</td>\n",
       "      <td>5</td>\n",
       "      <td>NaN</td>\n",
       "      <td>p_hat</td>\n",
       "      <td>0.80</td>\n",
       "      <td>NaN</td>\n",
       "    </tr>\n",
       "    <tr>\n",
       "      <th>3</th>\n",
       "      <td>4</td>\n",
       "      <td>5</td>\n",
       "      <td>NaN</td>\n",
       "      <td>p_not</td>\n",
       "      <td>0.75</td>\n",
       "      <td>NaN</td>\n",
       "    </tr>\n",
       "    <tr>\n",
       "      <th>4</th>\n",
       "      <td>5</td>\n",
       "      <td>5</td>\n",
       "      <td>NaN</td>\n",
       "      <td>n</td>\n",
       "      <td>200.00</td>\n",
       "      <td>NaN</td>\n",
       "    </tr>\n",
       "  </tbody>\n",
       "</table>\n",
       "</div>"
      ],
      "text/plain": [
       "   Customer  Rating  Unnamed: 2       Unnamed: 3  Unnamed: 4 Unnamed: 5\n",
       "0         1       5         NaN    Total ratings      200.00        NaN\n",
       "1         2       3         NaN  5 stars ratings      160.00        NaN\n",
       "2         3       5         NaN            p_hat        0.80        NaN\n",
       "3         4       5         NaN            p_not        0.75        NaN\n",
       "4         5       5         NaN                n      200.00        NaN"
      ]
     },
     "execution_count": 38,
     "metadata": {},
     "output_type": "execute_result"
    }
   ],
   "source": [
    "df.head()"
   ]
  },
  {
   "cell_type": "code",
   "execution_count": 42,
   "id": "26b12c0b-3ae8-4325-9166-a5c17fc45949",
   "metadata": {},
   "outputs": [
    {
     "data": {
      "text/plain": [
       "(13, 16, 0.75)"
      ]
     },
     "execution_count": 42,
     "metadata": {},
     "output_type": "execute_result"
    }
   ],
   "source": [
    "count = df[df['Rating'] == 5].shape[0]\n",
    "nobs = df.shape[0]\n",
    "value = 0.75\n",
    "\n",
    "count, nobs, value"
   ]
  },
  {
   "cell_type": "code",
   "execution_count": 46,
   "id": "6f79e8ed-6632-4626-9eb2-4ee1098913f3",
   "metadata": {},
   "outputs": [
    {
     "data": {
      "text/plain": [
       "(0.6405126152203485, 0.2609196951668077)"
      ]
     },
     "execution_count": 46,
     "metadata": {},
     "output_type": "execute_result"
    }
   ],
   "source": [
    "proportions_ztest(count, nobs, value, alternative='larger')\n",
    "# This results are not equal to the tutorial because the file does not have the same data."
   ]
  },
  {
   "cell_type": "markdown",
   "id": "587e0ec2-ee95-40b1-8bd9-0424eb3764ef",
   "metadata": {},
   "source": [
    "# Two sample z test for proportions"
   ]
  },
  {
   "cell_type": "code",
   "execution_count": 49,
   "id": "73c3ca18-a63c-4ffe-b220-9cf6a4fc0794",
   "metadata": {},
   "outputs": [],
   "source": [
    "df = pd.read_excel(proj_dir+'\\\\CHD.xlsx', sheet_name='Hoja1')"
   ]
  },
  {
   "cell_type": "code",
   "execution_count": 51,
   "id": "b127347a-c8a0-46fd-9a66-e0fb3df3b5d8",
   "metadata": {},
   "outputs": [
    {
     "data": {
      "text/html": [
       "<div>\n",
       "<style scoped>\n",
       "    .dataframe tbody tr th:only-of-type {\n",
       "        vertical-align: middle;\n",
       "    }\n",
       "\n",
       "    .dataframe tbody tr th {\n",
       "        vertical-align: top;\n",
       "    }\n",
       "\n",
       "    .dataframe thead th {\n",
       "        text-align: right;\n",
       "    }\n",
       "</style>\n",
       "<table border=\"1\" class=\"dataframe\">\n",
       "  <thead>\n",
       "    <tr style=\"text-align: right;\">\n",
       "      <th></th>\n",
       "      <th>Diabetics</th>\n",
       "      <th>Non-diabetics</th>\n",
       "      <th>Unnamed: 2</th>\n",
       "      <th>Unnamed: 3</th>\n",
       "      <th>Unnamed: 4</th>\n",
       "      <th>Unnamed: 5</th>\n",
       "      <th>Unnamed: 6</th>\n",
       "      <th>Unnamed: 7</th>\n",
       "      <th>Unnamed: 8</th>\n",
       "    </tr>\n",
       "  </thead>\n",
       "  <tbody>\n",
       "    <tr>\n",
       "      <th>0</th>\n",
       "      <td>1</td>\n",
       "      <td>0</td>\n",
       "      <td>NaN</td>\n",
       "      <td>n_success_1</td>\n",
       "      <td>28</td>\n",
       "      <td>NaN</td>\n",
       "      <td>NaN</td>\n",
       "      <td>NaN</td>\n",
       "      <td>NaN</td>\n",
       "    </tr>\n",
       "    <tr>\n",
       "      <th>1</th>\n",
       "      <td>0</td>\n",
       "      <td>1</td>\n",
       "      <td>NaN</td>\n",
       "      <td>n_1</td>\n",
       "      <td>100</td>\n",
       "      <td>NaN</td>\n",
       "      <td>NaN</td>\n",
       "      <td>NaN</td>\n",
       "      <td>NaN</td>\n",
       "    </tr>\n",
       "    <tr>\n",
       "      <th>2</th>\n",
       "      <td>0</td>\n",
       "      <td>0</td>\n",
       "      <td>NaN</td>\n",
       "      <td>p1</td>\n",
       "      <td>0.28</td>\n",
       "      <td>NaN</td>\n",
       "      <td>NaN</td>\n",
       "      <td>NaN</td>\n",
       "      <td>NaN</td>\n",
       "    </tr>\n",
       "    <tr>\n",
       "      <th>3</th>\n",
       "      <td>0</td>\n",
       "      <td>0</td>\n",
       "      <td>NaN</td>\n",
       "      <td>n_success_2</td>\n",
       "      <td>15</td>\n",
       "      <td>NaN</td>\n",
       "      <td>NaN</td>\n",
       "      <td>NaN</td>\n",
       "      <td>NaN</td>\n",
       "    </tr>\n",
       "    <tr>\n",
       "      <th>4</th>\n",
       "      <td>0</td>\n",
       "      <td>1</td>\n",
       "      <td>NaN</td>\n",
       "      <td>n_2</td>\n",
       "      <td>100</td>\n",
       "      <td>NaN</td>\n",
       "      <td>NaN</td>\n",
       "      <td>NaN</td>\n",
       "      <td>NaN</td>\n",
       "    </tr>\n",
       "  </tbody>\n",
       "</table>\n",
       "</div>"
      ],
      "text/plain": [
       "   Diabetics  Non-diabetics  Unnamed: 2   Unnamed: 3 Unnamed: 4 Unnamed: 5  \\\n",
       "0          1              0         NaN  n_success_1         28        NaN   \n",
       "1          0              1         NaN          n_1        100        NaN   \n",
       "2          0              0         NaN           p1       0.28        NaN   \n",
       "3          0              0         NaN  n_success_2         15        NaN   \n",
       "4          0              1         NaN          n_2        100        NaN   \n",
       "\n",
       "   Unnamed: 6 Unnamed: 7 Unnamed: 8  \n",
       "0         NaN        NaN        NaN  \n",
       "1         NaN        NaN        NaN  \n",
       "2         NaN        NaN        NaN  \n",
       "3         NaN        NaN        NaN  \n",
       "4         NaN        NaN        NaN  "
      ]
     },
     "execution_count": 51,
     "metadata": {},
     "output_type": "execute_result"
    }
   ],
   "source": [
    "df.head()"
   ]
  },
  {
   "cell_type": "code",
   "execution_count": 57,
   "id": "f9ae59e3-bb23-44b6-92c1-40e63b7c2718",
   "metadata": {},
   "outputs": [
    {
     "data": {
      "text/plain": [
       "(3, 5, 21, 21)"
      ]
     },
     "execution_count": 57,
     "metadata": {},
     "output_type": "execute_result"
    }
   ],
   "source": [
    "p1 = df['Diabetics'].sum()\n",
    "p2 = df['Non-diabetics'].sum()\n",
    "n1 = df['Diabetics'].count()\n",
    "n2 = df['Non-diabetics'].count()\n",
    "\n",
    "# The results are different from the tutorial.\n",
    "p1, p2, n1, n2"
   ]
  },
  {
   "cell_type": "code",
   "execution_count": 59,
   "id": "3e343f5c-cc5e-4324-b6c0-620b2b6cfc60",
   "metadata": {},
   "outputs": [
    {
     "data": {
      "text/plain": [
       "(-0.7859052479933757, 0.7840385001065039)"
      ]
     },
     "execution_count": 59,
     "metadata": {},
     "output_type": "execute_result"
    }
   ],
   "source": [
    "test_statistic, pvalue = proportions_ztest([p1, p2], [n1, n2], alternative='larger')\n",
    "test_statistic, pvalue"
   ]
  },
  {
   "cell_type": "code",
   "execution_count": null,
   "id": "25976a13-cc75-4a9e-b994-acf60aeb53f0",
   "metadata": {},
   "outputs": [],
   "source": []
  }
 ],
 "metadata": {
  "kernelspec": {
   "display_name": "Python 3 (ipykernel)",
   "language": "python",
   "name": "python3"
  },
  "language_info": {
   "codemirror_mode": {
    "name": "ipython",
    "version": 3
   },
   "file_extension": ".py",
   "mimetype": "text/x-python",
   "name": "python",
   "nbconvert_exporter": "python",
   "pygments_lexer": "ipython3",
   "version": "3.9.19"
  }
 },
 "nbformat": 4,
 "nbformat_minor": 5
}
